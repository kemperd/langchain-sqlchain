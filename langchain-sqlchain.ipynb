{
 "cells": [
  {
   "cell_type": "code",
   "execution_count": 1,
   "id": "897fd8fd-9d78-412c-9d90-229a0dccc9f9",
   "metadata": {
    "tags": []
   },
   "outputs": [],
   "source": [
    "from langchain.sql_database import SQLDatabase\n",
    "from langchain.chat_models import ChatOpenAI\n",
    "from langchain import SQLDatabaseChain\n",
    "from urllib.parse import quote  \n",
    "from sqlalchemy import create_engine, select, Table, MetaData, Column, String\n",
    "from dotenv import load_dotenv\n",
    "import os"
   ]
  },
  {
   "cell_type": "code",
   "execution_count": 2,
   "id": "f756730c-15a7-4e38-a9cd-ff5dfd66c81a",
   "metadata": {
    "tags": []
   },
   "outputs": [
    {
     "data": {
      "text/plain": [
       "True"
      ]
     },
     "execution_count": 2,
     "metadata": {},
     "output_type": "execute_result"
    }
   ],
   "source": [
    "load_dotenv()"
   ]
  },
  {
   "cell_type": "code",
   "execution_count": 3,
   "id": "bfed0447-0ae7-40bf-8884-4f48ce7981e6",
   "metadata": {
    "tags": []
   },
   "outputs": [
    {
     "name": "stderr",
     "output_type": "stream",
     "text": [
      "/home/dkemper/anaconda3/envs/test/lib/python3.10/site-packages/sqlalchemy_hana/dialect.py:327: SAWarning: Dialect hana:hdbcli will not make use of SQL compilation caching as it does not set the 'supports_statement_cache' attribute to ``True``.  This can have significant performance implications including some performance degradations in comparison to prior SQLAlchemy versions.  Dialect maintainers should seek to set this attribute to True after appropriate development and testing for SQLAlchemy 1.4 caching support.   Alternatively, this attribute may be set to False which will disable this warning. (Background on this warning at: https://sqlalche.me/e/20/cprf)\n",
      "  result = connection.execute(\n"
     ]
    }
   ],
   "source": [
    "username = str(os.getenv('DB_USER'))\n",
    "passwd = str(os.getenv('DB_PASS'))\n",
    "hostname = str(os.getenv('DB_HOST'))\n",
    "port = str(os.getenv('DB_PORT'))\n",
    "db = SQLDatabase.from_uri(\"hana://{}:{}@{}:{}\".format(username, quote(passwd), hostname, port))"
   ]
  },
  {
   "cell_type": "code",
   "execution_count": 4,
   "id": "7c5c9694-4c5d-4d91-a6e3-190df2d91bd3",
   "metadata": {
    "tags": []
   },
   "outputs": [
    {
     "name": "stderr",
     "output_type": "stream",
     "text": [
      "/home/dkemper/anaconda3/envs/test/lib/python3.10/site-packages/langchain/chains/sql_database/base.py:54: UserWarning: Directly instantiating an SQLDatabaseChain with an llm is deprecated. Please instantiate with llm_chain argument or using the from_llm class method.\n",
      "  warnings.warn(\n"
     ]
    }
   ],
   "source": [
    "db_chain = SQLDatabaseChain(llm=ChatOpenAI(temperature=0, model_name='gpt-3.5-turbo'), database=db, verbose=True)"
   ]
  },
  {
   "cell_type": "code",
   "execution_count": 5,
   "id": "8b5c3d1e-6e7d-4203-bb7e-8fda50974e07",
   "metadata": {
    "tags": []
   },
   "outputs": [
    {
     "name": "stdout",
     "output_type": "stream",
     "text": [
      "\n",
      "\n",
      "\u001b[1m> Entering new SQLDatabaseChain chain...\u001b[0m\n",
      "Sum up the total revenue\n",
      "SQLQuery:\u001b[32;1m\u001b[1;3mSELECT SUM(sales_revenue) FROM transactions\u001b[0m\n",
      "SQLResult: \u001b[33;1m\u001b[1;3m[(Decimal('2051658.33'),)]\u001b[0m\n",
      "Answer:\u001b[32;1m\u001b[1;3mThe total revenue is $2,051,658.33.\u001b[0m\n",
      "\u001b[1m> Finished chain.\u001b[0m\n"
     ]
    },
    {
     "data": {
      "text/plain": [
       "'The total revenue is $2,051,658.33.'"
      ]
     },
     "execution_count": 5,
     "metadata": {},
     "output_type": "execute_result"
    }
   ],
   "source": [
    "db_chain.run(\"Sum up the total revenue\")"
   ]
  },
  {
   "cell_type": "code",
   "execution_count": 6,
   "id": "fa172da1-8c80-4721-b4f5-d8f377d15d79",
   "metadata": {
    "tags": []
   },
   "outputs": [
    {
     "name": "stdout",
     "output_type": "stream",
     "text": [
      "\n",
      "\n",
      "\u001b[1m> Entering new SQLDatabaseChain chain...\u001b[0m\n",
      "Sum up the total revenue in March 2014\n",
      "SQLQuery:\u001b[32;1m\u001b[1;3mSELECT SUM(sales_revenue) FROM transactions WHERE \"Date\" BETWEEN '2014-03-01' AND '2014-03-31'\u001b[0m\n",
      "SQLResult: \u001b[33;1m\u001b[1;3m[(Decimal('50250.39'),)]\u001b[0m\n",
      "Answer:\u001b[32;1m\u001b[1;3mThe total revenue in March 2014 was $50,250.39.\u001b[0m\n",
      "\u001b[1m> Finished chain.\u001b[0m\n"
     ]
    },
    {
     "data": {
      "text/plain": [
       "'The total revenue in March 2014 was $50,250.39.'"
      ]
     },
     "execution_count": 6,
     "metadata": {},
     "output_type": "execute_result"
    }
   ],
   "source": [
    "db_chain.run(\"Sum up the total revenue in March 2014\")"
   ]
  },
  {
   "cell_type": "code",
   "execution_count": 7,
   "id": "a5a29798-9d70-44bc-b49f-6a72a0657434",
   "metadata": {
    "tags": []
   },
   "outputs": [
    {
     "name": "stdout",
     "output_type": "stream",
     "text": [
      "\n",
      "\n",
      "\u001b[1m> Entering new SQLDatabaseChain chain...\u001b[0m\n",
      "Aggregate the revenue by city, give the top 10 descending\n",
      "SQLQuery:\u001b[32;1m\u001b[1;3mSELECT city, SUM(sales_revenue) AS revenue\n",
      "FROM transactions\n",
      "GROUP BY city\n",
      "ORDER BY revenue DESC\n",
      "LIMIT 10\u001b[0m\n",
      "SQLResult: \u001b[33;1m\u001b[1;3m[('NEW ORLEANS', Decimal('54676.84')), ('MEMPHIS', Decimal('36251.51')), ('SAN DIEGO', Decimal('32109.34')), ('SCHAUMBURG', Decimal('25327.49')), ('LITTLE ROCK', Decimal('23224.58')), ('MINNEAPOLIS', Decimal('22285.38')), ('LOS ANGELES', Decimal('21154.46')), ('PHOENIX', Decimal('20957.72')), ('PORTLAND', Decimal('17717.21')), ('JACKSON', Decimal('17581.97'))]\u001b[0m\n",
      "Answer:\u001b[32;1m\u001b[1;3mThe top 10 cities by revenue are: NEW ORLEANS, MEMPHIS, SAN DIEGO, SCHAUMBURG, LITTLE ROCK, MINNEAPOLIS, LOS ANGELES, PHOENIX, PORTLAND, and JACKSON.\u001b[0m\n",
      "\u001b[1m> Finished chain.\u001b[0m\n"
     ]
    },
    {
     "data": {
      "text/plain": [
       "'The top 10 cities by revenue are: NEW ORLEANS, MEMPHIS, SAN DIEGO, SCHAUMBURG, LITTLE ROCK, MINNEAPOLIS, LOS ANGELES, PHOENIX, PORTLAND, and JACKSON.'"
      ]
     },
     "execution_count": 7,
     "metadata": {},
     "output_type": "execute_result"
    }
   ],
   "source": [
    "db_chain.run(\"Aggregate the revenue by city, give the top 10 descending\")"
   ]
  },
  {
   "cell_type": "code",
   "execution_count": 8,
   "id": "3849b8ef-9747-47fc-a7ec-dde141571e9e",
   "metadata": {
    "tags": []
   },
   "outputs": [
    {
     "name": "stdout",
     "output_type": "stream",
     "text": [
      "\n",
      "\n",
      "\u001b[1m> Entering new SQLDatabaseChain chain...\u001b[0m\n",
      "Sum up the total revenue for all Finn Depot stores\n",
      "SQLQuery:\u001b[32;1m\u001b[1;3mSELECT SUM(sales_revenue) FROM transactions WHERE store LIKE '%Finn Depot%'\u001b[0m\n",
      "SQLResult: \u001b[33;1m\u001b[1;3m[(Decimal('65285.74'),)]\u001b[0m\n",
      "Answer:\u001b[32;1m\u001b[1;3mThe total revenue for all Finn Depot stores is $65,285.74.\u001b[0m\n",
      "\u001b[1m> Finished chain.\u001b[0m\n"
     ]
    },
    {
     "data": {
      "text/plain": [
       "'The total revenue for all Finn Depot stores is $65,285.74.'"
      ]
     },
     "execution_count": 8,
     "metadata": {},
     "output_type": "execute_result"
    }
   ],
   "source": [
    "db_chain.run(\"Sum up the total revenue for all Finn Depot stores\")"
   ]
  },
  {
   "cell_type": "code",
   "execution_count": 9,
   "id": "0b8007de-e0aa-4430-a6aa-8c26bf851533",
   "metadata": {
    "tags": []
   },
   "outputs": [
    {
     "name": "stdout",
     "output_type": "stream",
     "text": [
      "\n",
      "\n",
      "\u001b[1m> Entering new SQLDatabaseChain chain...\u001b[0m\n",
      "Aggregate the revenue by product. Do not return the Product ID but use the descriptions instead. Also return the aggregated revenue for the product\n",
      "SQLQuery:\u001b[32;1m\u001b[1;3mSELECT p.description, SUM(t.sales_revenue) AS revenue\n",
      "FROM transactions t\n",
      "JOIN products p ON t.product_id = p.product\n",
      "GROUP BY p.description, t.product_id\u001b[0m\n",
      "SQLResult: \u001b[33;1m\u001b[1;3m[('Rain Jacket', Decimal('6875.65')), ('Gloves', Decimal('424299.72')), ('Boots', Decimal('453573.81')), ('Beef Jerky', Decimal('18425.93')), ('Water', Decimal('13024.14')), ('Bucket', Decimal('359492.33')), ('Nails', Decimal('7561.1')), ('Mop', Decimal('714269.83')), ('Hammer', Decimal('35042.56')), ('Canteen', Decimal('8698.91')), ('Tarp', Decimal('10394.35'))]\u001b[0m\n",
      "Answer:\u001b[32;1m\u001b[1;3mThe revenue aggregated by product is:\n",
      "- Rain Jacket: $6,875.65\n",
      "- Gloves: $424,299.72\n",
      "- Boots: $453,573.81\n",
      "- Beef Jerky: $18,425.93\n",
      "- Water: $13,024.14\n",
      "- Bucket: $359,492.33\n",
      "- Nails: $7,561.10\n",
      "- Mop: $714,269.83\n",
      "- Hammer: $35,042.56\n",
      "- Canteen: $8,698.91\n",
      "- Tarp: $10,394.35\u001b[0m\n",
      "\u001b[1m> Finished chain.\u001b[0m\n"
     ]
    },
    {
     "data": {
      "text/plain": [
       "'The revenue aggregated by product is:\\n- Rain Jacket: $6,875.65\\n- Gloves: $424,299.72\\n- Boots: $453,573.81\\n- Beef Jerky: $18,425.93\\n- Water: $13,024.14\\n- Bucket: $359,492.33\\n- Nails: $7,561.10\\n- Mop: $714,269.83\\n- Hammer: $35,042.56\\n- Canteen: $8,698.91\\n- Tarp: $10,394.35'"
      ]
     },
     "execution_count": 9,
     "metadata": {},
     "output_type": "execute_result"
    }
   ],
   "source": [
    "db_chain.run(\"Aggregate the revenue by product. Do not return the Product ID but use the descriptions instead. Also return the aggregated revenue for the product\")"
   ]
  },
  {
   "cell_type": "code",
   "execution_count": 10,
   "id": "feeb0639-bffa-43f4-965a-a30ac04d31e3",
   "metadata": {},
   "outputs": [
    {
     "name": "stdout",
     "output_type": "stream",
     "text": [
      "\n",
      "\n",
      "\u001b[1m> Entering new SQLDatabaseChain chain...\u001b[0m\n",
      "Aggregate the revenue by product group. Do not return the Product Group ID but use the product group descriptions instead. Also return the aggregated revenue for the product group\n",
      "SQLQuery:\u001b[32;1m\u001b[1;3mSELECT pg.description AS \"Product Group\", SUM(t.sales_revenue) AS \"Total Revenue\"\n",
      "FROM transactions t\n",
      "JOIN products p ON t.product_id = p.product\n",
      "JOIN product_groups pg ON p.product_group = pg.product_group\n",
      "GROUP BY pg.description\u001b[0m\n",
      "SQLResult: \u001b[33;1m\u001b[1;3m[('Apparel', Decimal('884749.18')), ('Camping', Decimal('19093.26')), ('Grocery', Decimal('31450.07')), ('Household', Decimal('1116365.82'))]\u001b[0m\n",
      "Answer:\u001b[32;1m\u001b[1;3mThe total revenue aggregated by product group is:\n",
      "- Apparel: $884,749.18\n",
      "- Camping: $19,093.26\n",
      "- Grocery: $31,450.07\n",
      "- Household: $1,116,365.82\u001b[0m\n",
      "\u001b[1m> Finished chain.\u001b[0m\n"
     ]
    },
    {
     "data": {
      "text/plain": [
       "'The total revenue aggregated by product group is:\\n- Apparel: $884,749.18\\n- Camping: $19,093.26\\n- Grocery: $31,450.07\\n- Household: $1,116,365.82'"
      ]
     },
     "execution_count": 10,
     "metadata": {},
     "output_type": "execute_result"
    }
   ],
   "source": [
    "db_chain.run(\"Aggregate the revenue by product group. Do not return the Product Group ID but use the product group descriptions instead. Also return the aggregated revenue for the product group\")"
   ]
  },
  {
   "cell_type": "code",
   "execution_count": 11,
   "id": "13a659f4-0272-4006-8fe1-0ca383d78696",
   "metadata": {
    "tags": []
   },
   "outputs": [
    {
     "name": "stdout",
     "output_type": "stream",
     "text": [
      "\n",
      "\n",
      "\u001b[1m> Entering new SQLDatabaseChain chain...\u001b[0m\n",
      "Aggregate the revenue by state, give the top 10 descending\n",
      "SQLQuery:\u001b[32;1m\u001b[1;3mSELECT states.description, SUM(transactions.sales_revenue) AS revenue\n",
      "FROM transactions\n",
      "JOIN cities ON transactions.city_id = cities.city\n",
      "JOIN states ON cities.state = states.state\n",
      "GROUP BY states.description\n",
      "ORDER BY revenue DESC\n",
      "LIMIT 10\u001b[0m\n",
      "SQLResult: \u001b[33;1m\u001b[1;3m[('California', Decimal('256911.3')), ('Illinois', Decimal('153531.71')), ('Arkansas', Decimal('121844.14')), ('Massachusetts', Decimal('111027.32')), ('Louisiana', Decimal('98948.63')), ('Connecticut', Decimal('93239.07')), ('Mississippi', Decimal('91824.31')), ('Michigan', Decimal('72786.22')), ('Texas', Decimal('72510.87')), ('Tennessee', Decimal('61129.04'))]\u001b[0m\n",
      "Answer:\u001b[32;1m\u001b[1;3mThe top 10 states by revenue are: California, Illinois, Arkansas, Massachusetts, Louisiana, Connecticut, Mississippi, Michigan, Texas, and Tennessee.\u001b[0m\n",
      "\u001b[1m> Finished chain.\u001b[0m\n"
     ]
    },
    {
     "data": {
      "text/plain": [
       "'The top 10 states by revenue are: California, Illinois, Arkansas, Massachusetts, Louisiana, Connecticut, Mississippi, Michigan, Texas, and Tennessee.'"
      ]
     },
     "execution_count": 11,
     "metadata": {},
     "output_type": "execute_result"
    }
   ],
   "source": [
    "db_chain.run(\"Aggregate the revenue by state, give the top 10 descending\")"
   ]
  },
  {
   "cell_type": "code",
   "execution_count": 12,
   "id": "96925f37-8369-4544-a78a-b6cf7060ec79",
   "metadata": {
    "tags": []
   },
   "outputs": [
    {
     "name": "stdout",
     "output_type": "stream",
     "text": [
      "\n",
      "\n",
      "\u001b[1m> Entering new SQLDatabaseChain chain...\u001b[0m\n",
      "Aggregate the number of sold items for all store brands with the string “mart” in the store brand name. Give the top 10 descending\n",
      "SQLQuery:\u001b[32;1m\u001b[1;3mSELECT sb.store_brand, SUM(t.quantity_sold) AS total_sold\n",
      "FROM store_brands sb\n",
      "JOIN stores s ON sb.store_brand = s.store_brand\n",
      "JOIN transactions t ON s.store = t.store\n",
      "WHERE sb.store_brand LIKE '%mart%'\n",
      "GROUP BY sb.store_brand\n",
      "ORDER BY total_sold DESC\n",
      "LIMIT 10\u001b[0m\n",
      "SQLResult: \u001b[33;1m\u001b[1;3m[]\u001b[0m\n",
      "Answer:\u001b[32;1m\u001b[1;3mThere are no results for this query, as there are no store brands with the string \"mart\" in their name.\u001b[0m\n",
      "\u001b[1m> Finished chain.\u001b[0m\n"
     ]
    },
    {
     "data": {
      "text/plain": [
       "'There are no results for this query, as there are no store brands with the string \"mart\" in their name.'"
      ]
     },
     "execution_count": 12,
     "metadata": {},
     "output_type": "execute_result"
    }
   ],
   "source": [
    "db_chain.run(\"Aggregate the number of sold items for all store brands with the string “mart” in the store brand name. Give the top 10 descending\")"
   ]
  },
  {
   "cell_type": "code",
   "execution_count": null,
   "id": "07fecb71-2429-44eb-8c3a-66c0b4a04ec9",
   "metadata": {},
   "outputs": [],
   "source": []
  }
 ],
 "metadata": {
  "kernelspec": {
   "display_name": "Python 3 (ipykernel)",
   "language": "python",
   "name": "python3"
  },
  "language_info": {
   "codemirror_mode": {
    "name": "ipython",
    "version": 3
   },
   "file_extension": ".py",
   "mimetype": "text/x-python",
   "name": "python",
   "nbconvert_exporter": "python",
   "pygments_lexer": "ipython3",
   "version": "3.10.11"
  }
 },
 "nbformat": 4,
 "nbformat_minor": 5
}
